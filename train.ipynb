{
 "cells": [
  {
   "cell_type": "code",
   "execution_count": null,
   "metadata": {},
   "outputs": [],
   "source": [
    "# train the PPO agent for the cartpole task family\n",
    "\n",
    "from env import cartpole\n",
    "from stable_baselines3 import PPO\n",
    "\n",
    "env = cartpole.CartPoleEnv()\n",
    "# env = gym.make('CartPole-v1')\n",
    "model = PPO(\"MlpPolicy\", env, verbose=0)\n",
    "\n",
    "\n",
    "for _ in range(300):\n",
    "    # learn\n",
    "    model.learn(total_timesteps=int(1e4))\n",
    "    # eval\n",
    "    for _ in range(5):\n",
    "        obs = env.reset()\n",
    "        episode_length = 0\n",
    "        while True:\n",
    "            episode_length += 1\n",
    "            action, _states = model.predict(obs)\n",
    "            obs, reward, done, info = env.step(action)\n",
    "            if done:\n",
    "                break\n",
    "        env.close()\n",
    "        print('keep up time', episode_length)\n",
    "\n",
    "model.save(\"trained_agent/ppo_baseline_0331_5cost\") \n",
    "# TODO, save the config with the model into one file.\n",
    "from notification import notify\n",
    "notify()"
   ]
  }
 ],
 "metadata": {
  "language_info": {
   "name": "python"
  }
 },
 "nbformat": 4,
 "nbformat_minor": 2
}
